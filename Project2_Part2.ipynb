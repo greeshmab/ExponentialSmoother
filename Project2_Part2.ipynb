{
 "cells": [
  {
   "cell_type": "markdown",
   "metadata": {},
   "source": [
    "# AMS 691 Fall 2020 Project 2"
   ]
  },
  {
   "cell_type": "markdown",
   "metadata": {},
   "source": [
    "Greeshma Balabhadra\n",
    "112750309"
   ]
  },
  {
   "cell_type": "markdown",
   "metadata": {},
   "source": [
    "### Testing Project1 (Bar Sampler) and Project2 functionalities"
   ]
  },
  {
   "cell_type": "code",
   "execution_count": 1,
   "metadata": {},
   "outputs": [],
   "source": [
    "import pandas as pd\n",
    "import numpy as np\n",
    "import Project1 as bs\n",
    "import Project2 as es"
   ]
  },
  {
   "cell_type": "code",
   "execution_count": 2,
   "metadata": {},
   "outputs": [],
   "source": [
    "## Get the file name and preprocess the data for required stocks \n",
    "## Store the tick data into csv file for future use\n",
    "\n",
    "# filepath = 'EQY_US_ALL_TRADE_20191008'\n",
    "# bs.preProcessDataintoCSV(filepath)\n",
    "# tdata = pd.read_csv(filepath+'.csv', delimiter='|')\n",
    "# AAPL = bs.getTicksDataForaSymbol(tdata, 'AAPL')\n",
    "# AMZN = bs.getTicksDataForaSymbol(tdata, 'AMZN')\n",
    "# MSFT = bs.getTicksDataForaSymbol(tdata, 'MSFT')\n",
    "\n",
    "# AMZN.to_csv('AMZN.csv')\n",
    "# AAPL.to_csv('AAPL.csv')\n",
    "# MSFT.to_csv('MSFT.csv')"
   ]
  },
  {
   "cell_type": "markdown",
   "metadata": {},
   "source": [
    "#### Read Data from stock CSV files into Pandas Data Frame"
   ]
  },
  {
   "cell_type": "code",
   "execution_count": 3,
   "metadata": {},
   "outputs": [],
   "source": [
    "AMZNdf = pd.read_csv(\"./AMZN.csv\").iloc[:,1:]\n",
    "AAPLdf = pd.read_csv(\"./AAPL.csv\").iloc[:,1:]\n",
    "MSFTdf = pd.read_csv(\"./MSFT.csv\").iloc[:,1:]"
   ]
  },
  {
   "cell_type": "code",
   "execution_count": 4,
   "metadata": {},
   "outputs": [
    {
     "data": {
      "text/html": [
       "<div>\n",
       "<style scoped>\n",
       "    .dataframe tbody tr th:only-of-type {\n",
       "        vertical-align: middle;\n",
       "    }\n",
       "\n",
       "    .dataframe tbody tr th {\n",
       "        vertical-align: top;\n",
       "    }\n",
       "\n",
       "    .dataframe thead th {\n",
       "        text-align: right;\n",
       "    }\n",
       "</style>\n",
       "<table border=\"1\" class=\"dataframe\">\n",
       "  <thead>\n",
       "    <tr style=\"text-align: right;\">\n",
       "      <th></th>\n",
       "      <th>Time</th>\n",
       "      <th>Exchange</th>\n",
       "      <th>Symbol</th>\n",
       "      <th>Sale Condition</th>\n",
       "      <th>Trade Volume</th>\n",
       "      <th>Trade Price</th>\n",
       "      <th>Trade Stop Stock Indicator</th>\n",
       "      <th>Trade Correction Indicator</th>\n",
       "      <th>Sequence Number</th>\n",
       "      <th>Trade Id</th>\n",
       "      <th>Source of Trade</th>\n",
       "      <th>Trade Reporting Facility</th>\n",
       "      <th>Participant Timestamp</th>\n",
       "      <th>Trade Reporting Facility TRF Timestamp</th>\n",
       "      <th>Trade Through Exempt Indicator</th>\n",
       "    </tr>\n",
       "  </thead>\n",
       "  <tbody>\n",
       "    <tr>\n",
       "      <th>0</th>\n",
       "      <td>40000031614134</td>\n",
       "      <td>P</td>\n",
       "      <td>AMZN</td>\n",
       "      <td>@ TI</td>\n",
       "      <td>5</td>\n",
       "      <td>1732.86</td>\n",
       "      <td>NaN</td>\n",
       "      <td>0</td>\n",
       "      <td>1145</td>\n",
       "      <td>1</td>\n",
       "      <td>N</td>\n",
       "      <td></td>\n",
       "      <td>40000029500672</td>\n",
       "      <td>NaN</td>\n",
       "      <td>0</td>\n",
       "    </tr>\n",
       "    <tr>\n",
       "      <th>1</th>\n",
       "      <td>40008758072535</td>\n",
       "      <td>Q</td>\n",
       "      <td>AMZN</td>\n",
       "      <td>@FTI</td>\n",
       "      <td>10</td>\n",
       "      <td>1732.02</td>\n",
       "      <td>NaN</td>\n",
       "      <td>0</td>\n",
       "      <td>1152</td>\n",
       "      <td>1</td>\n",
       "      <td>N</td>\n",
       "      <td></td>\n",
       "      <td>40008758049797</td>\n",
       "      <td>NaN</td>\n",
       "      <td>1</td>\n",
       "    </tr>\n",
       "  </tbody>\n",
       "</table>\n",
       "</div>"
      ],
      "text/plain": [
       "             Time Exchange Symbol Sale Condition  Trade Volume  Trade Price  \\\n",
       "0  40000031614134        P   AMZN           @ TI             5      1732.86   \n",
       "1  40008758072535        Q   AMZN           @FTI            10      1732.02   \n",
       "\n",
       "   Trade Stop Stock Indicator  Trade Correction Indicator  Sequence Number  \\\n",
       "0                         NaN                           0             1145   \n",
       "1                         NaN                           0             1152   \n",
       "\n",
       "   Trade Id Source of Trade Trade Reporting Facility  Participant Timestamp  \\\n",
       "0         1               N                                  40000029500672   \n",
       "1         1               N                                  40008758049797   \n",
       "\n",
       "   Trade Reporting Facility TRF Timestamp  Trade Through Exempt Indicator  \n",
       "0                                     NaN                               0  \n",
       "1                                     NaN                               1  "
      ]
     },
     "execution_count": 4,
     "metadata": {},
     "output_type": "execute_result"
    }
   ],
   "source": [
    "AMZNdf.head(2)"
   ]
  },
  {
   "cell_type": "code",
   "execution_count": 5,
   "metadata": {},
   "outputs": [],
   "source": [
    "## Clean data i.e Delete trades outside trading hours ( given Time Period ) or for given tradeType \n",
    "timePeriod = [\"1900-01-01 09:30:00\", \"1900-01-01 16:00:00\"]\n",
    "AMZN = es.cleanData(AMZNdf, tradeType = None, timePeriod = timePeriod)\n",
    "AAPL = es.cleanData(AAPLdf, tradeType = None, timePeriod = timePeriod)\n",
    "MSFT = es.cleanData(MSFTdf, tradeType = None, timePeriod = timePeriod)"
   ]
  },
  {
   "cell_type": "code",
   "execution_count": 6,
   "metadata": {},
   "outputs": [
    {
     "data": {
      "text/html": [
       "<div>\n",
       "<style scoped>\n",
       "    .dataframe tbody tr th:only-of-type {\n",
       "        vertical-align: middle;\n",
       "    }\n",
       "\n",
       "    .dataframe tbody tr th {\n",
       "        vertical-align: top;\n",
       "    }\n",
       "\n",
       "    .dataframe thead th {\n",
       "        text-align: right;\n",
       "    }\n",
       "</style>\n",
       "<table border=\"1\" class=\"dataframe\">\n",
       "  <thead>\n",
       "    <tr style=\"text-align: right;\">\n",
       "      <th></th>\n",
       "      <th>Exchange</th>\n",
       "      <th>Symbol</th>\n",
       "      <th>Sale Condition</th>\n",
       "      <th>Trade Volume</th>\n",
       "      <th>Trade Price</th>\n",
       "      <th>Trade Stop Stock Indicator</th>\n",
       "      <th>Trade Correction Indicator</th>\n",
       "      <th>Sequence Number</th>\n",
       "      <th>Trade Id</th>\n",
       "      <th>Source of Trade</th>\n",
       "      <th>Trade Reporting Facility</th>\n",
       "      <th>Participant Timestamp</th>\n",
       "      <th>Trade Reporting Facility TRF Timestamp</th>\n",
       "      <th>Trade Through Exempt Indicator</th>\n",
       "    </tr>\n",
       "    <tr>\n",
       "      <th>Date_Time</th>\n",
       "      <th></th>\n",
       "      <th></th>\n",
       "      <th></th>\n",
       "      <th></th>\n",
       "      <th></th>\n",
       "      <th></th>\n",
       "      <th></th>\n",
       "      <th></th>\n",
       "      <th></th>\n",
       "      <th></th>\n",
       "      <th></th>\n",
       "      <th></th>\n",
       "      <th></th>\n",
       "      <th></th>\n",
       "    </tr>\n",
       "  </thead>\n",
       "  <tbody>\n",
       "    <tr>\n",
       "      <th>1900-01-01 09:30:00.113432261</th>\n",
       "      <td>Y</td>\n",
       "      <td>AMZN</td>\n",
       "      <td>@  I</td>\n",
       "      <td>7</td>\n",
       "      <td>1721.02</td>\n",
       "      <td>NaN</td>\n",
       "      <td>0</td>\n",
       "      <td>13612</td>\n",
       "      <td>6</td>\n",
       "      <td>N</td>\n",
       "      <td></td>\n",
       "      <td>93000113220000</td>\n",
       "      <td>NaN</td>\n",
       "      <td>0</td>\n",
       "    </tr>\n",
       "    <tr>\n",
       "      <th>1900-01-01 09:30:00.165981559</th>\n",
       "      <td>Q</td>\n",
       "      <td>AMZN</td>\n",
       "      <td>@FTI</td>\n",
       "      <td>12</td>\n",
       "      <td>1722.49</td>\n",
       "      <td>NaN</td>\n",
       "      <td>0</td>\n",
       "      <td>13732</td>\n",
       "      <td>288</td>\n",
       "      <td>N</td>\n",
       "      <td></td>\n",
       "      <td>93000165953740</td>\n",
       "      <td>NaN</td>\n",
       "      <td>1</td>\n",
       "    </tr>\n",
       "  </tbody>\n",
       "</table>\n",
       "</div>"
      ],
      "text/plain": [
       "                              Exchange Symbol Sale Condition  Trade Volume  \\\n",
       "Date_Time                                                                    \n",
       "1900-01-01 09:30:00.113432261        Y   AMZN           @  I             7   \n",
       "1900-01-01 09:30:00.165981559        Q   AMZN           @FTI            12   \n",
       "\n",
       "                               Trade Price  Trade Stop Stock Indicator  \\\n",
       "Date_Time                                                                \n",
       "1900-01-01 09:30:00.113432261      1721.02                         NaN   \n",
       "1900-01-01 09:30:00.165981559      1722.49                         NaN   \n",
       "\n",
       "                               Trade Correction Indicator  Sequence Number  \\\n",
       "Date_Time                                                                    \n",
       "1900-01-01 09:30:00.113432261                           0            13612   \n",
       "1900-01-01 09:30:00.165981559                           0            13732   \n",
       "\n",
       "                               Trade Id Source of Trade  \\\n",
       "Date_Time                                                 \n",
       "1900-01-01 09:30:00.113432261         6               N   \n",
       "1900-01-01 09:30:00.165981559       288               N   \n",
       "\n",
       "                              Trade Reporting Facility  Participant Timestamp  \\\n",
       "Date_Time                                                                       \n",
       "1900-01-01 09:30:00.113432261                                  93000113220000   \n",
       "1900-01-01 09:30:00.165981559                                  93000165953740   \n",
       "\n",
       "                               Trade Reporting Facility TRF Timestamp  \\\n",
       "Date_Time                                                               \n",
       "1900-01-01 09:30:00.113432261                                     NaN   \n",
       "1900-01-01 09:30:00.165981559                                     NaN   \n",
       "\n",
       "                               Trade Through Exempt Indicator  \n",
       "Date_Time                                                      \n",
       "1900-01-01 09:30:00.113432261                               0  \n",
       "1900-01-01 09:30:00.165981559                               1  "
      ]
     },
     "execution_count": 6,
     "metadata": {},
     "output_type": "execute_result"
    }
   ],
   "source": [
    "AMZN.head(2)"
   ]
  },
  {
   "cell_type": "markdown",
   "metadata": {},
   "source": [
    "#### Creating Minute Bars using Bar Sampler\n",
    "\n",
    "Use the functions you developed in project 1 to sample 1-minute bars for 3 stocks of your choosing(keep in mind the code needs to work for any 3 stocks). Use the functions developed above to create a db structure for log returns and one for trade volume."
   ]
  },
  {
   "cell_type": "code",
   "execution_count": 7,
   "metadata": {},
   "outputs": [],
   "source": [
    "## bs.minuteBarsResampler takes the filtered dataframe for any stock and creates minute bar sampler\n",
    "AMmbsdf = bs.minuteBarsResampler(AMZN, units = 'T', size = 1, volume = True).reset_index()\n",
    "APmbsdf = bs.minuteBarsResampler(AAPL, units = 'T', size = 1, volume = True).reset_index()\n",
    "MSmbsdf = bs.minuteBarsResampler(MSFT, units = 'T', size = 1, volume = True).reset_index()"
   ]
  },
  {
   "cell_type": "code",
   "execution_count": 8,
   "metadata": {},
   "outputs": [],
   "source": [
    "## Renaming columns to be consistent with the barSampler outputs\n",
    "AMmbs = AMmbsdf.rename(columns = {\"open\":\"Open\", \"high\":\"High\", \"low\":\"Low\", \"close\":\"Close\"})\n",
    "APmbs = APmbsdf.rename(columns = {\"open\":\"Open\", \"high\":\"High\", \"low\":\"Low\", \"close\":\"Close\"})\n",
    "MSmbs = MSmbsdf.rename(columns = {\"open\":\"Open\", \"high\":\"High\", \"low\":\"Low\", \"close\":\"Close\"})"
   ]
  },
  {
   "cell_type": "code",
   "execution_count": 9,
   "metadata": {},
   "outputs": [
    {
     "data": {
      "text/html": [
       "<div>\n",
       "<style scoped>\n",
       "    .dataframe tbody tr th:only-of-type {\n",
       "        vertical-align: middle;\n",
       "    }\n",
       "\n",
       "    .dataframe tbody tr th {\n",
       "        vertical-align: top;\n",
       "    }\n",
       "\n",
       "    .dataframe thead th {\n",
       "        text-align: right;\n",
       "    }\n",
       "</style>\n",
       "<table border=\"1\" class=\"dataframe\">\n",
       "  <thead>\n",
       "    <tr style=\"text-align: right;\">\n",
       "      <th></th>\n",
       "      <th>Date_Time</th>\n",
       "      <th>Open</th>\n",
       "      <th>High</th>\n",
       "      <th>Low</th>\n",
       "      <th>Close</th>\n",
       "      <th>Trade Volume</th>\n",
       "    </tr>\n",
       "  </thead>\n",
       "  <tbody>\n",
       "    <tr>\n",
       "      <th>0</th>\n",
       "      <td>1900-01-01 09:30:00</td>\n",
       "      <td>1721.02</td>\n",
       "      <td>1722.4900</td>\n",
       "      <td>1717.71</td>\n",
       "      <td>1718.6300</td>\n",
       "      <td>67763</td>\n",
       "    </tr>\n",
       "    <tr>\n",
       "      <th>1</th>\n",
       "      <td>1900-01-01 09:31:00</td>\n",
       "      <td>1718.60</td>\n",
       "      <td>1719.2599</td>\n",
       "      <td>1717.05</td>\n",
       "      <td>1717.9502</td>\n",
       "      <td>12760</td>\n",
       "    </tr>\n",
       "  </tbody>\n",
       "</table>\n",
       "</div>"
      ],
      "text/plain": [
       "            Date_Time     Open       High      Low      Close  Trade Volume\n",
       "0 1900-01-01 09:30:00  1721.02  1722.4900  1717.71  1718.6300         67763\n",
       "1 1900-01-01 09:31:00  1718.60  1719.2599  1717.05  1717.9502         12760"
      ]
     },
     "execution_count": 9,
     "metadata": {},
     "output_type": "execute_result"
    }
   ],
   "source": [
    "AMmbs.head(2)"
   ]
  },
  {
   "cell_type": "code",
   "execution_count": 10,
   "metadata": {},
   "outputs": [
    {
     "data": {
      "text/html": [
       "<div>\n",
       "<style scoped>\n",
       "    .dataframe tbody tr th:only-of-type {\n",
       "        vertical-align: middle;\n",
       "    }\n",
       "\n",
       "    .dataframe tbody tr th {\n",
       "        vertical-align: top;\n",
       "    }\n",
       "\n",
       "    .dataframe thead th {\n",
       "        text-align: right;\n",
       "    }\n",
       "</style>\n",
       "<table border=\"1\" class=\"dataframe\">\n",
       "  <thead>\n",
       "    <tr style=\"text-align: right;\">\n",
       "      <th></th>\n",
       "      <th>Date_Time</th>\n",
       "      <th>Open</th>\n",
       "      <th>High</th>\n",
       "      <th>Low</th>\n",
       "      <th>Close</th>\n",
       "      <th>Trade Volume</th>\n",
       "    </tr>\n",
       "  </thead>\n",
       "  <tbody>\n",
       "    <tr>\n",
       "      <th>0</th>\n",
       "      <td>1900-01-01 09:30:00</td>\n",
       "      <td>225.88</td>\n",
       "      <td>226.30</td>\n",
       "      <td>225.58</td>\n",
       "      <td>226.29</td>\n",
       "      <td>693802</td>\n",
       "    </tr>\n",
       "    <tr>\n",
       "      <th>1</th>\n",
       "      <td>1900-01-01 09:31:00</td>\n",
       "      <td>226.30</td>\n",
       "      <td>226.61</td>\n",
       "      <td>225.87</td>\n",
       "      <td>226.33</td>\n",
       "      <td>165825</td>\n",
       "    </tr>\n",
       "  </tbody>\n",
       "</table>\n",
       "</div>"
      ],
      "text/plain": [
       "            Date_Time    Open    High     Low   Close  Trade Volume\n",
       "0 1900-01-01 09:30:00  225.88  226.30  225.58  226.29        693802\n",
       "1 1900-01-01 09:31:00  226.30  226.61  225.87  226.33        165825"
      ]
     },
     "execution_count": 10,
     "metadata": {},
     "output_type": "execute_result"
    }
   ],
   "source": [
    "APmbs.head(2)"
   ]
  },
  {
   "cell_type": "code",
   "execution_count": 11,
   "metadata": {
    "scrolled": true
   },
   "outputs": [],
   "source": [
    "## Get the  logreturn for Minute bar samplers\n",
    "AMmbslret = es.get_log_return(AMmbs).set_index('Date_Time')\n",
    "APmbslret = es.get_log_return(APmbs).set_index('Date_Time')\n",
    "MSmbslret = es.get_log_return(MSmbs).set_index('Date_Time')"
   ]
  },
  {
   "cell_type": "code",
   "execution_count": 12,
   "metadata": {},
   "outputs": [
    {
     "data": {
      "text/html": [
       "<div>\n",
       "<style scoped>\n",
       "    .dataframe tbody tr th:only-of-type {\n",
       "        vertical-align: middle;\n",
       "    }\n",
       "\n",
       "    .dataframe tbody tr th {\n",
       "        vertical-align: top;\n",
       "    }\n",
       "\n",
       "    .dataframe thead th {\n",
       "        text-align: right;\n",
       "    }\n",
       "</style>\n",
       "<table border=\"1\" class=\"dataframe\">\n",
       "  <thead>\n",
       "    <tr style=\"text-align: right;\">\n",
       "      <th></th>\n",
       "      <th>Open</th>\n",
       "      <th>High</th>\n",
       "      <th>Low</th>\n",
       "      <th>Close</th>\n",
       "      <th>Trade Volume</th>\n",
       "      <th>log returns</th>\n",
       "    </tr>\n",
       "    <tr>\n",
       "      <th>Date_Time</th>\n",
       "      <th></th>\n",
       "      <th></th>\n",
       "      <th></th>\n",
       "      <th></th>\n",
       "      <th></th>\n",
       "      <th></th>\n",
       "    </tr>\n",
       "  </thead>\n",
       "  <tbody>\n",
       "    <tr>\n",
       "      <th>1900-01-01 09:30:00</th>\n",
       "      <td>1721.02</td>\n",
       "      <td>1722.4900</td>\n",
       "      <td>1717.71</td>\n",
       "      <td>1718.6300</td>\n",
       "      <td>67763</td>\n",
       "      <td>-0.001390</td>\n",
       "    </tr>\n",
       "    <tr>\n",
       "      <th>1900-01-01 09:31:00</th>\n",
       "      <td>1718.60</td>\n",
       "      <td>1719.2599</td>\n",
       "      <td>1717.05</td>\n",
       "      <td>1717.9502</td>\n",
       "      <td>12760</td>\n",
       "      <td>-0.000378</td>\n",
       "    </tr>\n",
       "  </tbody>\n",
       "</table>\n",
       "</div>"
      ],
      "text/plain": [
       "                        Open       High      Low      Close  Trade Volume  \\\n",
       "Date_Time                                                                   \n",
       "1900-01-01 09:30:00  1721.02  1722.4900  1717.71  1718.6300         67763   \n",
       "1900-01-01 09:31:00  1718.60  1719.2599  1717.05  1717.9502         12760   \n",
       "\n",
       "                     log returns  \n",
       "Date_Time                         \n",
       "1900-01-01 09:30:00    -0.001390  \n",
       "1900-01-01 09:31:00    -0.000378  "
      ]
     },
     "execution_count": 12,
     "metadata": {},
     "output_type": "execute_result"
    }
   ],
   "source": [
    "AMmbslret.head(2)"
   ]
  },
  {
   "cell_type": "markdown",
   "metadata": {},
   "source": [
    "### Create Db - For Trade Volume and Log returns"
   ]
  },
  {
   "cell_type": "code",
   "execution_count": 13,
   "metadata": {},
   "outputs": [
    {
     "name": "stdout",
     "output_type": "stream",
     "text": [
      "[DatetimeIndex(['1900-01-01 09:30:00', '1900-01-01 09:31:00',\n",
      "               '1900-01-01 09:32:00', '1900-01-01 09:33:00',\n",
      "               '1900-01-01 09:34:00', '1900-01-01 09:35:00',\n",
      "               '1900-01-01 09:36:00', '1900-01-01 09:37:00',\n",
      "               '1900-01-01 09:38:00', '1900-01-01 09:39:00',\n",
      "               ...\n",
      "               '1900-01-01 15:50:00', '1900-01-01 15:51:00',\n",
      "               '1900-01-01 15:52:00', '1900-01-01 15:53:00',\n",
      "               '1900-01-01 15:54:00', '1900-01-01 15:55:00',\n",
      "               '1900-01-01 15:56:00', '1900-01-01 15:57:00',\n",
      "               '1900-01-01 15:58:00', '1900-01-01 15:59:00'],\n",
      "              dtype='datetime64[ns]', name='Date_Time', length=390, freq=None), ['AAPL', 'AMZN', 'MSFT'], array([[ 0.00181348, -0.00138968, -0.00277555],\n",
      "       [ 0.00013256, -0.00037817,  0.00175387],\n",
      "       [ 0.0011485 ,  0.00122188,  0.00196944],\n",
      "       ...,\n",
      "       [-0.00048984, -0.00110733, -0.00044189],\n",
      "       [ 0.00095716,  0.00029893,  0.00029459],\n",
      "       [-0.00151407, -0.00090854, -0.00110509]])]\n"
     ]
    },
    {
     "name": "stderr",
     "output_type": "stream",
     "text": [
      "/Users/greeshmab/Google Drive/SEM3/691.03/Project2.py:129: FutureWarning: arrays to stack must be passed as a \"sequence\" type such as list or tuple. Support for non-sequence iterables such as generators is deprecated as of NumPy 1.16 and will raise an error in the future.\n",
      "  res.append(np.vstack((np.array(db[Metric]) for db in listdb)).T)\n"
     ]
    }
   ],
   "source": [
    "## symbol <- list of stock tickers as an input to create the db structure\n",
    "## createdb tales logreturns db (OHLCV + log rets), stock ticker list and db type ('log returns' or 'Trade Volume')\n",
    "symbol = ['AAPL', 'AMZN', 'MSFT']\n",
    "dbLogReturns = es.createdb([APmbslret, AMmbslret, MSmbslret], symbol, 'log returns')\n",
    "print(dbLogReturns)"
   ]
  },
  {
   "cell_type": "code",
   "execution_count": 14,
   "metadata": {},
   "outputs": [
    {
     "name": "stdout",
     "output_type": "stream",
     "text": [
      "[DatetimeIndex(['1900-01-01 09:30:00', '1900-01-01 09:31:00',\n",
      "               '1900-01-01 09:32:00', '1900-01-01 09:33:00',\n",
      "               '1900-01-01 09:34:00', '1900-01-01 09:35:00',\n",
      "               '1900-01-01 09:36:00', '1900-01-01 09:37:00',\n",
      "               '1900-01-01 09:38:00', '1900-01-01 09:39:00',\n",
      "               ...\n",
      "               '1900-01-01 15:50:00', '1900-01-01 15:51:00',\n",
      "               '1900-01-01 15:52:00', '1900-01-01 15:53:00',\n",
      "               '1900-01-01 15:54:00', '1900-01-01 15:55:00',\n",
      "               '1900-01-01 15:56:00', '1900-01-01 15:57:00',\n",
      "               '1900-01-01 15:58:00', '1900-01-01 15:59:00'],\n",
      "              dtype='datetime64[ns]', name='Date_Time', length=390, freq=None), ['AAPL', 'AMZN', 'MSFT'], array([[693802,  67763, 717640],\n",
      "       [165825,  12760, 154339],\n",
      "       [127813,  15063, 120464],\n",
      "       ...,\n",
      "       [174728,  32251, 207354],\n",
      "       [158433,  39919, 322883],\n",
      "       [314784,  41476, 561364]])]\n"
     ]
    }
   ],
   "source": [
    "## Db structure for Trade Volume\n",
    "dbTradeVolume = es.createdb([APmbslret, AMmbslret, MSmbslret], symbol, 'Trade Volume')\n",
    "print(dbTradeVolume)"
   ]
  },
  {
   "cell_type": "code",
   "execution_count": 15,
   "metadata": {},
   "outputs": [
    {
     "data": {
      "text/plain": [
       "array([[ 0.00181348,  0.00013256,  0.0011485 , ..., -0.00048984,\n",
       "         0.00095716, -0.00151407],\n",
       "       [-0.00138968, -0.00037817,  0.00122188, ..., -0.00110733,\n",
       "         0.00029893, -0.00090854],\n",
       "       [-0.00277555,  0.00175387,  0.00196944, ..., -0.00044189,\n",
       "         0.00029459, -0.00110509]])"
      ]
     },
     "execution_count": 15,
     "metadata": {},
     "output_type": "execute_result"
    }
   ],
   "source": [
    "## CCheck the structure of dblogreturns[2]\n",
    "dbLogReturns[2].transpose()"
   ]
  },
  {
   "cell_type": "markdown",
   "metadata": {},
   "source": [
    "### Exponential Smoothing\n",
    "Apply your smoothing function to the 1-minute bar db structure to normalize the volatility as close as possible to 1.Return a db structure containing these smoothed log returns."
   ]
  },
  {
   "cell_type": "code",
   "execution_count": 16,
   "metadata": {},
   "outputs": [
    {
     "name": "stdout",
     "output_type": "stream",
     "text": [
      "[1.18653727 0.94209108 1.00072452]\n"
     ]
    }
   ],
   "source": [
    "## es.exponentialSmoothing \n",
    "## https://en.wikipedia.org/wiki/Exponential_smoothing\n",
    "\n",
    "mnVarSmoothedLogReturns = []\n",
    "for i in range(3):\n",
    "    VarSmoothed = (dbLogReturns[2].transpose()[i][1:-1])/np.sqrt(es.exponentialSmoothing(dbLogReturns[2].transpose()[i][0:-2]**2,\n",
    "                                                                                         lambda_=0.015))\n",
    "\n",
    "    mnVarSmoothedLogReturns.append(VarSmoothed)\n",
    "mnVarSmoothedLogReturnsm = np.array(mnVarSmoothedLogReturns)\n",
    "print(np.std(mnVarSmoothedLogReturnsm, axis = 1))"
   ]
  },
  {
   "cell_type": "code",
   "execution_count": 17,
   "metadata": {},
   "outputs": [
    {
     "name": "stdout",
     "output_type": "stream",
     "text": [
      "[DatetimeIndex(['1900-01-01 09:30:00', '1900-01-01 09:31:00',\n",
      "               '1900-01-01 09:32:00', '1900-01-01 09:33:00',\n",
      "               '1900-01-01 09:34:00', '1900-01-01 09:35:00',\n",
      "               '1900-01-01 09:36:00', '1900-01-01 09:37:00',\n",
      "               '1900-01-01 09:38:00', '1900-01-01 09:39:00',\n",
      "               ...\n",
      "               '1900-01-01 15:48:00', '1900-01-01 15:49:00',\n",
      "               '1900-01-01 15:50:00', '1900-01-01 15:51:00',\n",
      "               '1900-01-01 15:52:00', '1900-01-01 15:53:00',\n",
      "               '1900-01-01 15:54:00', '1900-01-01 15:55:00',\n",
      "               '1900-01-01 15:56:00', '1900-01-01 15:57:00'],\n",
      "              dtype='datetime64[ns]', name='Date_Time', length=388, freq=None), ['AAPL', 'AMZN', 'MSFT'], array([[ 0.07309635, -0.27212805,  0.63190179],\n",
      "       [ 0.63808981,  0.88542709,  0.71278583],\n",
      "       [ 0.02463086,  0.79312475,  0.54221814],\n",
      "       ...,\n",
      "       [ 0.22133005,  0.01305788,  0.23544292],\n",
      "       [-0.4905023 , -1.71588804, -0.47434491],\n",
      "       [ 0.96396974,  0.45660787,  0.3180842 ]])]\n"
     ]
    }
   ],
   "source": [
    "##  db structure containing these smoothed log returns\n",
    "dbSmoothedLogReturnsm = [dbLogReturns[0][:mnVarSmoothedLogReturnsm.shape[1]], dbLogReturns[1], \n",
    "                         mnVarSmoothedLogReturnsm.T]\n",
    "print(dbSmoothedLogReturnsm)"
   ]
  },
  {
   "cell_type": "markdown",
   "metadata": {},
   "source": [
    "### Tick resampler and Exponential Smoothing"
   ]
  },
  {
   "cell_type": "code",
   "execution_count": 18,
   "metadata": {},
   "outputs": [],
   "source": [
    "## es.tickResamplerAlignDatapoints takes Stock ticks dataframe, \n",
    "## datapoints - number of datapoints in the resampled dataframe based on ticks as inputs\n",
    "## Here all the three stock dataframes return 1000 datapoints to align the calendar\n",
    "\n",
    "datapoints = 1000\n",
    "AMtbs =  es.tickResamplerAlignDatapoints(AMZN, datapoints, volume = True).reset_index()\n",
    "APtbs =  es.tickResamplerAlignDatapoints(AAPL, datapoints, volume = True).reset_index()\n",
    "MStbs =  es.tickResamplerAlignDatapoints(MSFT, datapoints, volume = True).reset_index()\n",
    "\n",
    "AMtbslret = es.get_log_return(AMtbs)\n",
    "APtbslret = es.get_log_return(APtbs)\n",
    "MStbslret = es.get_log_return(MStbs)"
   ]
  },
  {
   "cell_type": "markdown",
   "metadata": {},
   "source": [
    "#### Create Db for Tickresampled log returns"
   ]
  },
  {
   "cell_type": "code",
   "execution_count": 19,
   "metadata": {},
   "outputs": [],
   "source": [
    "## symbol <- list of stock tickers as an input to create the db structure\n",
    "## createdb tales logreturns db (OHLCV + log rets), stock ticker list and db type ('log returns' or 'Trade Volume')\n",
    "symbol = ['AAPL', 'AMZN', 'MSFT']\n",
    "dbLogReturnst = es.createdb([ APtbslret, AMtbslret, MStbslret], symbol, 'log returns')"
   ]
  },
  {
   "cell_type": "code",
   "execution_count": 20,
   "metadata": {},
   "outputs": [
    {
     "name": "stdout",
     "output_type": "stream",
     "text": [
      "[RangeIndex(start=0, stop=1000, step=1), ['AAPL', 'AMZN', 'MSFT'], array([[-4.42722745e-05,  5.69267693e-04, -6.56670703e-04],\n",
      "       [ 3.54123327e-04,  0.00000000e+00,  0.00000000e+00],\n",
      "       [ 3.09755075e-04, -3.19523158e-04,  0.00000000e+00],\n",
      "       ...,\n",
      "       [-6.67839120e-04, -2.16966169e-04, -7.36675384e-05],\n",
      "       [ 4.22988307e-04,  2.75615372e-04, -4.42119232e-04],\n",
      "       [-1.11351146e-03, -1.05550799e-04, -1.47416526e-04]])]\n"
     ]
    }
   ],
   "source": [
    "print(dbLogReturnst)"
   ]
  },
  {
   "cell_type": "markdown",
   "metadata": {},
   "source": [
    "#### Exponential Smoothing tick bar db structure to normalize the volatility "
   ]
  },
  {
   "cell_type": "code",
   "execution_count": 21,
   "metadata": {},
   "outputs": [
    {
     "name": "stdout",
     "output_type": "stream",
     "text": [
      "[1.1318366  0.99536173 0.99910307]\n"
     ]
    }
   ],
   "source": [
    "## es.exponentialSmoothing \n",
    "## https://en.wikipedia.org/wiki/Exponential_smoothing\n",
    "mnVarSmoothedLogReturns = []\n",
    "for i in range(3):\n",
    "    VarSmoothed = (dbLogReturnst[2].transpose()[i][1:-1])/np.sqrt(es.exponentialSmoothing(dbLogReturnst[2].transpose()[i][0:-2]**2,\n",
    "                                                                                         lambda_=0.045))\n",
    "    mnVarSmoothedLogReturns.append(VarSmoothed)\n",
    "mnVarSmoothedLogReturnst = np.array(mnVarSmoothedLogReturns)\n",
    "\n",
    "## Print standard deviation of smoothed log returns for tick resampled  data\n",
    "print(np.std(mnVarSmoothedLogReturnst, axis = 1))"
   ]
  },
  {
   "cell_type": "code",
   "execution_count": 22,
   "metadata": {},
   "outputs": [
    {
     "name": "stdout",
     "output_type": "stream",
     "text": [
      "[RangeIndex(start=0, stop=998, step=1), ['AAPL', 'AMZN', 'MSFT'], array([[ 7.99876065,  0.        ,  0.        ],\n",
      "       [ 3.57317626, -0.57435991,  0.        ],\n",
      "       [-1.9271371 , -1.17967961, -0.58164867],\n",
      "       ...,\n",
      "       [ 0.05308941,  0.38888121,  0.        ],\n",
      "       [-2.32888993, -1.08676809, -0.31692563],\n",
      "       [ 1.34704966,  1.37494766, -1.94175136]])]\n"
     ]
    }
   ],
   "source": [
    "##  db structure containing these smoothed tick sampled log returns\n",
    "dbSmoothedLogReturnst = [dbLogReturnst[0][:mnVarSmoothedLogReturnst.shape[1]], dbLogReturnst[1], \n",
    "                         mnVarSmoothedLogReturnst.T]\n",
    "print(dbSmoothedLogReturnst)"
   ]
  },
  {
   "cell_type": "code",
   "execution_count": null,
   "metadata": {},
   "outputs": [],
   "source": []
  },
  {
   "cell_type": "code",
   "execution_count": null,
   "metadata": {},
   "outputs": [],
   "source": []
  }
 ],
 "metadata": {
  "kernelspec": {
   "display_name": "Python 3",
   "language": "python",
   "name": "python3"
  },
  "language_info": {
   "codemirror_mode": {
    "name": "ipython",
    "version": 3
   },
   "file_extension": ".py",
   "mimetype": "text/x-python",
   "name": "python",
   "nbconvert_exporter": "python",
   "pygments_lexer": "ipython3",
   "version": "3.8.6"
  }
 },
 "nbformat": 4,
 "nbformat_minor": 4
}
